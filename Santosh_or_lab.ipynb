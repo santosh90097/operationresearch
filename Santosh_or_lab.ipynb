{
 "cells": [
  {
   "cell_type": "markdown",
   "id": "ce804949",
   "metadata": {},
   "source": [
    "# Your Name Here  \n",
    "## Class: Santosh Poudel  \n",
    "### Assignment 1: Jupyter Notebook and GitHub  \n",
    "\n"
   ]
  },
  {
   "cell_type": "markdown",
   "id": "c3a13ebe",
   "metadata": {},
   "source": []
  },
  {
   "cell_type": "markdown",
   "id": "78407beb",
   "metadata": {},
   "source": [
    "## Introduction  \n",
    "This notebook contains my first assignment for learning Python and GitHub. "
   ]
  },
  {
   "cell_type": "markdown",
   "id": "eef31ce9",
   "metadata": {},
   "source": [
    "## My Favorite Python Function  \n",
    "\n",
    "My favorite Python function is **`max()`**.  \n",
    "\n",
    "Why I like it:  \n",
    "- It quickly finds the **largest value** in a list, tuple, or even multiple numbers.  \n",
    "- It saves me from writing extra loops to compare values one by one.  \n",
    "- It is very useful when working with scores, prices, or any kind of dataset.  \n",
    "\n",
    "For example, if I have a list of numbers, I can instantly know which one is the biggest.\n"
   ]
  },
  {
   "cell_type": "markdown",
   "id": "ebe6d015",
   "metadata": {},
   "source": [
    "# Example of my favorite function (max)\n"
   ]
  },
  {
   "cell_type": "code",
   "execution_count": 1,
   "id": "1cdac01c",
   "metadata": {},
   "outputs": [
    {
     "name": "stdout",
     "output_type": "stream",
     "text": [
      "Numbers: [3, 17, 25, 9, 42, 8, 16]\n",
      "Largest number is: 42\n",
      "Words: ['apple', 'zebra', 'mango', 'banana']\n",
      "Alphabetically largest word is: zebra\n"
     ]
    }
   ],
   "source": [
    "numbers = [3, 17, 25, 9, 42, 8, 16]\n",
    "\n",
    "print(\"Numbers:\", numbers)\n",
    "print(\"Largest number is:\", max(numbers))\n",
    "\n",
    "words = [\"apple\", \"zebra\", \"mango\", \"banana\"]\n",
    "print(\"Words:\", words)\n",
    "print(\"Alphabetically largest word is:\", max(words))\n"
   ]
  },
  {
   "cell_type": "code",
   "execution_count": null,
   "id": "f4163241",
   "metadata": {},
   "outputs": [
    {
     "name": "stdout",
     "output_type": "stream",
     "text": [
      "Double of 5: 10\n",
      "Double of 12: 24\n",
      "Double of 100: 200\n"
     ]
    }
   ],
   "source": [
    "# Defining my own function\n",
    "def double_number(x):\n",
    "    \"\"\"This function doubles the number given as input.\"\"\"\n",
    "    return x * 2\n",
    "\n",
    "print(\"Double of 5:\", double_number(5))\n",
    "print(\"Double of 12:\", double_number(12))\n",
    "print(\"Double of 100:\", double_number(100))\n"
   ]
  },
  {
   "cell_type": "markdown",
   "id": "fbc5bb4a",
   "metadata": {},
   "source": [
    "## Working with a List  \n",
    "\n",
    "I created a list of the first 10 square numbers.  \n",
    "To get these values, I multiplied each number by itself:  \n",
    "1×1, 2×2, 3×3, …, 10×10. "
   ]
  },
  {
   "cell_type": "code",
   "execution_count": 3,
   "id": "4229d762",
   "metadata": {},
   "outputs": [
    {
     "name": "stdout",
     "output_type": "stream",
     "text": [
      "My List: [1, 4, 9, 16, 25, 36, 49, 64, 81, 100]\n",
      "Sum: 385\n",
      "Minimum: 1\n",
      "Maximum: 100\n",
      "Average: 38.5\n"
     ]
    }
   ],
   "source": [
    "# Creating a list of 10 square numbers\n",
    "my_list = [1,4,9,16,25,36,49,64,81,100]\n",
    "\n",
    "print(\"My List:\", my_list)\n",
    "print(\"Sum:\", sum(my_list))\n",
    "print(\"Minimum:\", min(my_list))\n",
    "print(\"Maximum:\", max(my_list))\n",
    "print(\"Average:\", sum(my_list)/len(my_list))\n"
   ]
  }
 ],
 "metadata": {
  "kernelspec": {
   "display_name": "base",
   "language": "python",
   "name": "python3"
  },
  "language_info": {
   "codemirror_mode": {
    "name": "ipython",
    "version": 3
   },
   "file_extension": ".py",
   "mimetype": "text/x-python",
   "name": "python",
   "nbconvert_exporter": "python",
   "pygments_lexer": "ipython3",
   "version": "3.12.7"
  }
 },
 "nbformat": 4,
 "nbformat_minor": 5
}
