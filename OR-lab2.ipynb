{
 "cells": [
  {
   "cell_type": "markdown",
   "id": "5684e06c",
   "metadata": {},
   "source": [
    "# Handshakes\n",
    " Two soccer teams have just finished their game. The two teams of 11 all shake hands and the winning team also shakes hand with each other. How many handshakes have occured?\n"
   ]
  },
  {
   "cell_type": "code",
   "execution_count": 10,
   "id": "13f91b74",
   "metadata": {},
   "outputs": [
    {
     "name": "stdout",
     "output_type": "stream",
     "text": [
      "Between teams: 11 × 11 = 121\n"
     ]
    }
   ],
   "source": [
    "between_teams = 11 * 11\n",
    "print(f\"Between teams: 11 × 11 = {between_teams}\")"
   ]
  },
  {
   "cell_type": "code",
   "execution_count": 11,
   "id": "3deaf4a7",
   "metadata": {},
   "outputs": [
    {
     "name": "stdout",
     "output_type": "stream",
     "text": [
      "Within winning team: 11 × 10 ÷ 2 = 55\n"
     ]
    }
   ],
   "source": [
    "within_team = 11 * 10 // 2\n",
    "print(f\"Within winning team: 11 × 10 ÷ 2 = {within_team}\")"
   ]
  },
  {
   "cell_type": "code",
   "execution_count": 12,
   "id": "4a12b602",
   "metadata": {},
   "outputs": [
    {
     "name": "stdout",
     "output_type": "stream",
     "text": [
      "Total: 121 + 55 = 176 handshakes\n"
     ]
    }
   ],
   "source": [
    "total = between_teams + within_team\n",
    "print(f\"Total: {between_teams} + {within_team} = {total} handshakes\")"
   ]
  },
  {
   "cell_type": "markdown",
   "id": "6eb8a5fa",
   "metadata": {},
   "source": [
    "# Harder Handshakes\n",
    "Mr. Smith and his wife invited four other couples for a dinner party. When everyone arrived, handshakes were exchanged with some of the others. Of course no one shook hands with their spouse and nobody shook hands with the same person twice.\n",
    "Mr. Smith asked everyone how many times they shook hands. He recieved a different answer from each person.\n",
    "How many times did Mr. Smith shake hands?"
   ]
  },
  {
   "cell_type": "code",
   "execution_count": 13,
   "id": "919a14b7",
   "metadata": {},
   "outputs": [
    {
     "name": "stdout",
     "output_type": "stream",
     "text": [
      "Possible counts: [0 1 2 3 4 5 6 7 8]\n"
     ]
    }
   ],
   "source": [
    "import numpy as np\n",
    "\n",
    "possible = np.arange(9)  # [0,1,2,3,4,5,6,7,8]\n",
    "print(f\"Possible counts: {possible}\")\n",
    "\n"
   ]
  },
  {
   "cell_type": "code",
   "execution_count": 14,
   "id": "798a780c",
   "metadata": {},
   "outputs": [
    {
     "name": "stdout",
     "output_type": "stream",
     "text": [
      "Spouse pairs: \n",
      "[[0 8]\n",
      " [1 7]\n",
      " [2 6]\n",
      " [3 5]]\n"
     ]
    }
   ],
   "source": [
    "pairs = np.array([[i, 8-i] for i in range(4)])\n",
    "print(f\"Spouse pairs: \\n{pairs}\")\n",
    "\n"
   ]
  },
  {
   "cell_type": "code",
   "execution_count": 15,
   "id": "0ac422f8",
   "metadata": {},
   "outputs": [
    {
     "name": "stdout",
     "output_type": "stream",
     "text": [
      "Used by others: [0, 1, 2, 3, 5, 6, 7, 8]\n",
      "Mr. Smith: 4 handshakes\n"
     ]
    }
   ],
   "source": [
    "used = set(pairs.flatten())\n",
    "mr_smith = list(set(possible) - used)[0]\n",
    "\n",
    "print(f\"Used by others: {sorted(used)}\")\n",
    "print(f\"Mr. Smith: {mr_smith} handshakes\")"
   ]
  }
 ],
 "metadata": {
  "kernelspec": {
   "display_name": "base",
   "language": "python",
   "name": "python3"
  },
  "language_info": {
   "codemirror_mode": {
    "name": "ipython",
    "version": 3
   },
   "file_extension": ".py",
   "mimetype": "text/x-python",
   "name": "python",
   "nbconvert_exporter": "python",
   "pygments_lexer": "ipython3",
   "version": "3.12.7"
  }
 },
 "nbformat": 4,
 "nbformat_minor": 5
}
